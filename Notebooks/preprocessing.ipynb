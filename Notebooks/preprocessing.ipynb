{
  "nbformat": 4,
  "nbformat_minor": 0,
  "metadata": {
    "colab": {
      "provenance": [],
      "collapsed_sections": [
        "3nD_nyQLbhy9",
        "r6rE5YsZcFCd",
        "A2821spucSP-",
        "ReIPS_Arcd_4",
        "cgnKE7_GcpfN"
      ]
    },
    "kernelspec": {
      "name": "python3",
      "display_name": "Python 3"
    },
    "language_info": {
      "name": "python"
    }
  },
  "cells": [
    {
      "cell_type": "markdown",
      "source": [
        "# **Text Preprocessing using SaraikiNLP**\n",
        "\n",
        "## **Table of Contents**\n",
        "1. Installation\n",
        "2. Importing Preprocessing Module\n",
        "3. Preprocessing Functions\n",
        "   - Remove Links\n",
        "   - Remove Hashtags\n",
        "   - Remove Usernames\n",
        "   - Remove Phone Numbers\n",
        "   - Remove Numbers\n",
        "   - Remove Punctuation\n",
        "   - Remove White Space\n",
        "   - Remove Multiple Spaces\n",
        "   - Remove Line Breaks\n",
        "   - Separate Numbers From Text\n",
        "   - Remove Emojis and Symbols\n",
        "   - Convert Text to Lowercase\n",
        "   - Remove English\n",
        "   - Retain Clean Saraiki"
      ],
      "metadata": {
        "id": "phF2ykxT1n1t"
      }
    },
    {
      "cell_type": "markdown",
      "source": [
        "## **Installation**\n",
        "<p align=\"left\">\n",
        "  <a href=\"https://pypi.org/project/SaraikiNLP/\"><img src=\"https://img.shields.io/pypi/v/SaraikiNLP.svg\"/></a>\n",
        "  <a href=\"https://huggingface.co/SaraikiNLP\"><img src=\"https://img.shields.io/badge/Hugging%20Face-SaraikiNLP-yellow?logo=huggingface\"/></a>\n",
        "<a href=\"https://github.com/SaraikiNLP/SaraikiNLP\"><img src=\"https://img.shields.io/badge/Github-SaraikiNLP-blue?logo=github\"/></a>\n",
        "\n",
        "</p>"
      ],
      "metadata": {
        "id": "0Kdvy0-wQ4tH"
      }
    },
    {
      "cell_type": "code",
      "execution_count": 1,
      "metadata": {
        "colab": {
          "base_uri": "https://localhost:8080/"
        },
        "collapsed": true,
        "id": "n3wiUlRPPnum",
        "outputId": "49a7f7fa-a90a-44a1-e4e8-12ebceb56ec9"
      },
      "outputs": [
        {
          "output_type": "stream",
          "name": "stdout",
          "text": [
            "Collecting SaraikiNLP\n",
            "  Downloading saraikinlp-0.1.0rc2-py3-none-any.whl.metadata (8.2 kB)\n",
            "Downloading saraikinlp-0.1.0rc2-py3-none-any.whl (9.6 kB)\n",
            "Installing collected packages: SaraikiNLP\n",
            "Successfully installed SaraikiNLP-0.1.0rc2\n"
          ]
        }
      ],
      "source": [
        "!pip install SaraikiNLP"
      ]
    },
    {
      "cell_type": "markdown",
      "source": [
        "## **Importing Preprocessing Module**"
      ],
      "metadata": {
        "id": "IzEyMQpJQ_yW"
      }
    },
    {
      "cell_type": "code",
      "source": [
        "from SaraikiNLP import preprocessing"
      ],
      "metadata": {
        "id": "-GynbxNnP1Ee"
      },
      "execution_count": 2,
      "outputs": []
    },
    {
      "cell_type": "markdown",
      "source": [
        "## **Preprocessing Functions**"
      ],
      "metadata": {
        "id": "WrWwCT--2R5g"
      }
    },
    {
      "cell_type": "markdown",
      "source": [
        "### **Remove Links**\n",
        "Removes various kind of links."
      ],
      "metadata": {
        "id": "3nD_nyQLbhy9"
      }
    },
    {
      "cell_type": "code",
      "source": [
        "print(preprocessing.remove_links(\n",
        "    \"\"\"میڈا ٹک ٹاک فالو کریسو تے یوٹوب وی وزٹ کریسو\n",
        "       www.tiktok.com/@example\n",
        "\n",
        "       https://youtu.be/@example\"\"\"\n",
        "))"
      ],
      "metadata": {
        "colab": {
          "base_uri": "https://localhost:8080/"
        },
        "id": "dBroGPy4XjRz",
        "outputId": "11e5fe39-137e-4ca5-bd52-e3fa1ed1e580"
      },
      "execution_count": 3,
      "outputs": [
        {
          "output_type": "stream",
          "name": "stdout",
          "text": [
            "میڈا ٹک ٹاک فالو کریسو تے یوٹوب وی وزٹ کریسو\n"
          ]
        }
      ]
    },
    {
      "cell_type": "markdown",
      "source": [
        "### **Remove Hashtags**\n",
        "Removes hashtags both in Saraiki and English with underscores or any format."
      ],
      "metadata": {
        "id": "r6rE5YsZcFCd"
      }
    },
    {
      "cell_type": "code",
      "source": [
        "print(preprocessing.remove_hashtags(\n",
        "    \"\"\"#twitter\n",
        "       #سرائیکی_صوبہ سرائیکستان دی تحریک زور پکڑی ودی ہے\n",
        "\n",
        "\n",
        "       #sariki_suba_\n",
        "    \"\"\"\n",
        "))"
      ],
      "metadata": {
        "colab": {
          "base_uri": "https://localhost:8080/"
        },
        "id": "CJjm1kYA9kZU",
        "outputId": "c4803bc2-bcd7-4da6-8412-fb494774891e"
      },
      "execution_count": 4,
      "outputs": [
        {
          "output_type": "stream",
          "name": "stdout",
          "text": [
            "سرائیکستان دی تحریک زور پکڑی ودی ہے\n"
          ]
        }
      ]
    },
    {
      "cell_type": "markdown",
      "source": [
        "### **Remove Usernames**\n",
        "Removes username handles of @username format."
      ],
      "metadata": {
        "id": "A2821spucSP-"
      }
    },
    {
      "cell_type": "code",
      "source": [
        "print(preprocessing.remove_usernames(\n",
        "    \"\"\"\n",
        "     @ali تُوں چپ کر یار\n",
        "    \"\"\"\n",
        "))"
      ],
      "metadata": {
        "colab": {
          "base_uri": "https://localhost:8080/"
        },
        "id": "_tizUigp_4WQ",
        "outputId": "73ec2e34-842b-4e20-f429-77bfe3361ac0"
      },
      "execution_count": 5,
      "outputs": [
        {
          "output_type": "stream",
          "name": "stdout",
          "text": [
            "تُوں چپ کر یار\n"
          ]
        }
      ]
    },
    {
      "cell_type": "markdown",
      "source": [
        "### **Remove Phone Numbers**\n",
        "Removes almost all kind of phone number variants."
      ],
      "metadata": {
        "id": "ReIPS_Arcd_4"
      }
    },
    {
      "cell_type": "code",
      "source": [
        "print(preprocessing.remove_phone_numbers(\n",
        "    \"\"\"\n",
        "     فون نمبر لِکھ ڳھن ناں0300 1234567\n",
        "     شاکر کال نہ چاوے تاں ول اے ݙیکھیں 923001234567\n",
        "     +92-300-123-456-7یا\n",
        "     یا +92 3001234567\n",
        "    \"\"\"\n",
        "))"
      ],
      "metadata": {
        "colab": {
          "base_uri": "https://localhost:8080/"
        },
        "id": "kVH8ndjnA6uo",
        "outputId": "9dffe5cc-edda-4305-b185-4d99443c31d5"
      },
      "execution_count": 6,
      "outputs": [
        {
          "output_type": "stream",
          "name": "stdout",
          "text": [
            "فون نمبر لِکھ ڳھن ناں \n",
            " شاکر کال نہ چاوے تاں ول اے ݙیکھیں \n",
            " یا\n",
            " یا\n"
          ]
        }
      ]
    },
    {
      "cell_type": "markdown",
      "source": [
        "### **Remove Numbers**\n",
        "Removes all digits either in Saraiki, Arabic or English."
      ],
      "metadata": {
        "id": "cgnKE7_GcpfN"
      }
    },
    {
      "cell_type": "code",
      "source": [
        "print(preprocessing.remove_numbers(\n",
        "    \"\"\"\n",
        "     ٧١٧ ٢٥٣٧٤٧ اے پاسورڈ ہے میڈا اے کم نہ کرے تاں Example@123__456 کر\n",
        "    \"\"\"\n",
        "))"
      ],
      "metadata": {
        "colab": {
          "base_uri": "https://localhost:8080/"
        },
        "id": "tmE9-PX8BwjP",
        "outputId": "432313c9-e3d0-4752-978d-0c70703b0ef3"
      },
      "execution_count": 7,
      "outputs": [
        {
          "output_type": "stream",
          "name": "stdout",
          "text": [
            "اے پاسورڈ ہے میڈا اے کم نہ کرے تاں Example@ __ کر\n"
          ]
        }
      ]
    },
    {
      "cell_type": "markdown",
      "source": [
        "### **Remove Punctuation**\n",
        "Removes all punctuation marks of all languages."
      ],
      "metadata": {
        "id": "nbR-bWfzcx-P"
      }
    },
    {
      "cell_type": "code",
      "source": [
        "print(preprocessing.remove_punctuation(\n",
        "    \"\"\"\n",
        "    BREAKING NEWS:\n",
        "    ...حکومت دا۔۔۔ اعلان\n",
        "    123\n",
        "    \"\"\"\n",
        "))"
      ],
      "metadata": {
        "colab": {
          "base_uri": "https://localhost:8080/"
        },
        "id": "U3eqNHAECw0X",
        "outputId": "3660ddda-5a8d-40f7-b3f9-94c8cb32fdc4"
      },
      "execution_count": 8,
      "outputs": [
        {
          "output_type": "stream",
          "name": "stdout",
          "text": [
            "BREAKING NEWS \n",
            " حکومت دا اعلان\n",
            " 123\n"
          ]
        }
      ]
    },
    {
      "cell_type": "markdown",
      "source": [
        "### **Remove White Space**\n",
        "Removes multiple spaces (2 or more than 2 spaces), linebreaks and tab."
      ],
      "metadata": {
        "id": "maDhaUFqc7Me"
      }
    },
    {
      "cell_type": "code",
      "source": [
        "print(preprocessing.remove_whitespace(\n",
        "    \"\"\"\n",
        "    BREAKING NEWS:\n",
        "    ...حکومت دا۔۔۔    اعلان\n",
        "    123\n",
        "    \"\"\"\n",
        "))"
      ],
      "metadata": {
        "colab": {
          "base_uri": "https://localhost:8080/"
        },
        "id": "JKLOp5eTDwZw",
        "outputId": "11aec8ce-e416-47c2-b21a-30ab7ee4a70c"
      },
      "execution_count": 9,
      "outputs": [
        {
          "output_type": "stream",
          "name": "stdout",
          "text": [
            "BREAKING NEWS: ...حکومت دا۔۔۔ اعلان 123\n"
          ]
        }
      ]
    },
    {
      "cell_type": "markdown",
      "source": [
        "### **Remove Multiple Spaces**\n",
        "Removes multiple spaces (2 or more than 2 spaces) IGNORING line breaks (\\n)."
      ],
      "metadata": {
        "id": "jKmJzcB6dFtz"
      }
    },
    {
      "cell_type": "code",
      "source": [
        "print(preprocessing.remove_multiple_spaces(\n",
        "    \"\"\"\n",
        "    BREAKING NEWS:\n",
        "    ...حکومت دا۔۔۔    اعلان\n",
        "    123\n",
        "    \"\"\"\n",
        "))"
      ],
      "metadata": {
        "colab": {
          "base_uri": "https://localhost:8080/"
        },
        "id": "iznmaJ01Jwty",
        "outputId": "41b23da5-39a2-4605-8dd5-10238114aadb"
      },
      "execution_count": 10,
      "outputs": [
        {
          "output_type": "stream",
          "name": "stdout",
          "text": [
            "BREAKING NEWS:\n",
            " ...حکومت دا۔۔۔ اعلان\n",
            " 123\n"
          ]
        }
      ]
    },
    {
      "cell_type": "markdown",
      "source": [
        "### **Remove Line Breaks**\n",
        "Removes ONLY line breaks, ignoring spaces."
      ],
      "metadata": {
        "id": "imYVVdipdThD"
      }
    },
    {
      "cell_type": "code",
      "source": [
        "print(preprocessing.remove_linebreaks(\n",
        "    \"\"\"\n",
        "    BREAKING NEWS:\n",
        "    ...حکومت دا۔۔۔ اعلان\n",
        "    123\n",
        "    \"\"\"\n",
        "))"
      ],
      "metadata": {
        "colab": {
          "base_uri": "https://localhost:8080/"
        },
        "id": "I6ezq3gpMH0p",
        "outputId": "b3ae864f-86f1-4aad-93e4-a228f412b391"
      },
      "execution_count": 11,
      "outputs": [
        {
          "output_type": "stream",
          "name": "stdout",
          "text": [
            "BREAKING NEWS: ...حکومت دا۔۔۔ اعلان 123\n"
          ]
        }
      ]
    },
    {
      "cell_type": "markdown",
      "source": [
        "### **Separate Numbers From Text**\n",
        "Gives a room for words and numbers attached without space to breath."
      ],
      "metadata": {
        "id": "2KG5MkohdeP6"
      }
    },
    {
      "cell_type": "code",
      "source": [
        "print(preprocessing.separate_numbers_from_text(\n",
        "    \"\"\"\n",
        "11لاکھ\n",
        "اج10بندے\n",
        "110810.22پوائنٹس\n",
        "    \"\"\"\n",
        "))"
      ],
      "metadata": {
        "colab": {
          "base_uri": "https://localhost:8080/"
        },
        "id": "PHgM3E5vO8dV",
        "outputId": "e7420bb3-4cbb-4065-f63b-cf17a3908813"
      },
      "execution_count": 12,
      "outputs": [
        {
          "output_type": "stream",
          "name": "stdout",
          "text": [
            "11 لاکھ\n",
            "اج 10 بندے\n",
            "110810.22 پوائنٹس\n"
          ]
        }
      ]
    },
    {
      "cell_type": "markdown",
      "source": [
        "### **Remove Emojis and Symbols**\n",
        "Removes all kind of emojis, emoticons symbols and so on."
      ],
      "metadata": {
        "id": "ZcWJZmokd9iD"
      }
    },
    {
      "cell_type": "code",
      "source": [
        "print(preprocessing.remove_emojis_and_symbols(\n",
        "    \"\"\"\n",
        "    🥀شاکر توں💡💡وی کملا.. ہیں 🥺🥺 💡\n",
        "\n",
        "    \"\"\"\n",
        "))"
      ],
      "metadata": {
        "colab": {
          "base_uri": "https://localhost:8080/"
        },
        "id": "YlLK9aCVQCax",
        "outputId": "6c60f0ab-ce6c-4e0f-c908-0ad6ab5a6d22"
      },
      "execution_count": 13,
      "outputs": [
        {
          "output_type": "stream",
          "name": "stdout",
          "text": [
            "شاکر توں وی کملا.. ہیں\n"
          ]
        }
      ]
    },
    {
      "cell_type": "markdown",
      "source": [
        "### **Convert Text to Lowercase**\n",
        "Lowercases English in text."
      ],
      "metadata": {
        "id": "is0vYShLeFzS"
      }
    },
    {
      "cell_type": "markdown",
      "source": [],
      "metadata": {
        "id": "rVX3SktQul04"
      }
    },
    {
      "cell_type": "code",
      "source": [
        "print(preprocessing.to_lowercase(\n",
        "    \"\"\"\n",
        "    BREAKING NEWS:\n",
        "    حکومت دا اعلان\n",
        "\n",
        "    \"\"\"\n",
        "))"
      ],
      "metadata": {
        "colab": {
          "base_uri": "https://localhost:8080/"
        },
        "id": "mtfn7TmaQYeS",
        "outputId": "fcc69d76-9194-44dd-9d3a-4d5ae4d68ef6"
      },
      "execution_count": 14,
      "outputs": [
        {
          "output_type": "stream",
          "name": "stdout",
          "text": [
            "\n",
            "    breaking news:\n",
            "    حکومت دا اعلان\n",
            "\n",
            "    \n"
          ]
        }
      ]
    },
    {
      "cell_type": "markdown",
      "source": [
        "### **Remove English**\n",
        "Removes English, its punctuation and numbers.\n",
        "\n",
        "Then Applies **remove_multiple_spaces** to avoid uninteded word joining."
      ],
      "metadata": {
        "id": "yC6cfMr4eL7c"
      }
    },
    {
      "cell_type": "code",
      "source": [
        "print(preprocessing.remove_english(\n",
        "    \"\"\"\n",
        "    BREAKING NEWS:\n",
        "    حکومت دا   اعلان\n",
        "\n",
        "    \"\"\"\n",
        "))"
      ],
      "metadata": {
        "colab": {
          "base_uri": "https://localhost:8080/"
        },
        "id": "7Gh-l2BuZa4y",
        "outputId": "a7ca0101-c8c1-4345-f4e6-9433149965d5"
      },
      "execution_count": 15,
      "outputs": [
        {
          "output_type": "stream",
          "name": "stdout",
          "text": [
            "حکومت دا اعلان\n"
          ]
        }
      ]
    },
    {
      "cell_type": "markdown",
      "source": [
        "### **Retain Clean Saraiki**\n",
        "**Normalizes the text and then retains these:**\n",
        "\n",
        " 👉 Removes all other languages including English, punctuation etc.\n",
        "\n",
        " 👉 Basic Arabic block (includes Urdu punctuation)\n",
        "\n",
        " 👉 Arabic Supplement\n",
        "\n",
        " 👉 Diacritical marks ( ِ َ ؒ ٗ ّ ْ ٌ ُ ۤ) etc\n",
        "\n",
        " 👉 Whitespace (\\s+)\n",
        "\n",
        " 👉 Western digits (0-9)\n",
        "\n",
        " 👉 Arabic-Indic digits (٠-٩)\n",
        "\n",
        " 👉 Additional Saraiki characters (ݨ ݙ ڳ ڄ ٻ) etc"
      ],
      "metadata": {
        "id": "M5RA2jPQej_C"
      }
    },
    {
      "cell_type": "code",
      "source": [
        "print(preprocessing.retain_clean_saraiki(\n",
        "    \"\"\"\n",
        "    BREAKING NEWS:\n",
        "    ...حکومت دا۔۔۔ اعلان\n",
        "    123\n",
        "    \"\"\"\n",
        "))"
      ],
      "metadata": {
        "colab": {
          "base_uri": "https://localhost:8080/"
        },
        "id": "7OnjDPgQb2tm",
        "outputId": "fb0260b8-9666-47ad-d5ee-28f297f16fb0"
      },
      "execution_count": 16,
      "outputs": [
        {
          "output_type": "stream",
          "name": "stdout",
          "text": [
            "حکومت دا۔۔۔ اعلان\n",
            " 123\n"
          ]
        }
      ]
    }
  ]
}