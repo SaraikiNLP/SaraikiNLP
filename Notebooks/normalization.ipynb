{
  "nbformat": 4,
  "nbformat_minor": 0,
  "metadata": {
    "colab": {
      "provenance": [],
      "collapsed_sections": [
        "3S_OwAwLYJwz",
        "3nD_nyQLbhy9",
        "r6rE5YsZcFCd",
        "A2821spucSP-",
        "ReIPS_Arcd_4",
        "cgnKE7_GcpfN",
        "nbR-bWfzcx-P",
        "maDhaUFqc7Me",
        "jKmJzcB6dFtz",
        "imYVVdipdThD",
        "2KG5MkohdeP6",
        "ZcWJZmokd9iD",
        "is0vYShLeFzS",
        "yC6cfMr4eL7c",
        "M5RA2jPQej_C"
      ]
    },
    "kernelspec": {
      "name": "python3",
      "display_name": "Python 3"
    },
    "language_info": {
      "name": "python"
    }
  },
  "cells": [
    {
      "cell_type": "markdown",
      "source": [
        "## **1. Normalization functions**\n",
        "\n",
        "## Table of Contents\n",
        "1. Installation\n",
        "2. Importing Normalization Module\n",
        "3. Normalization Functions\n",
        "   - Character Normalization\n",
        "   - Number Normalization\n",
        "   - Punctuation Normalization\n",
        "   - Diacritics Removal\n",
        "   - Spacing Correction\n",
        "   - Normalize Text"
      ],
      "metadata": {
        "id": "PykQI3FcRH6t"
      }
    },
    {
      "cell_type": "markdown",
      "source": [
        "## **Installation**\n",
        "<p align=\"left\">\n",
        "  <a href=\"https://pypi.org/project/SaraikiNLP/\"><img src=\"https://img.shields.io/pypi/v/SaraikiNLP.svg\"/></a>\n",
        "  <a href=\"https://huggingface.co/SaraikiNLP\"><img src=\"https://img.shields.io/badge/Hugging%20Face-SaraikiNLP-yellow?logo=huggingface\"/></a>\n",
        "<a href=\"https://github.com/SaraikiNLP\"><img src=\"https://img.shields.io/badge/Github-SaraikiNLP-blue?logo=github\"/></a>\n",
        "\n",
        "</p>"
      ],
      "metadata": {
        "id": "0Kdvy0-wQ4tH"
      }
    },
    {
      "cell_type": "code",
      "execution_count": 1,
      "metadata": {
        "colab": {
          "base_uri": "https://localhost:8080/"
        },
        "collapsed": true,
        "id": "n3wiUlRPPnum",
        "outputId": "240f8a80-688c-4cb7-c95a-a3e3cb73a2c8"
      },
      "outputs": [
        {
          "output_type": "stream",
          "name": "stdout",
          "text": [
            "Collecting SaraikiNLP\n",
            "  Downloading saraikinlp-0.1.0rc2-py3-none-any.whl.metadata (8.2 kB)\n",
            "Downloading saraikinlp-0.1.0rc2-py3-none-any.whl (9.6 kB)\n",
            "Installing collected packages: SaraikiNLP\n",
            "Successfully installed SaraikiNLP-0.1.0rc2\n"
          ]
        }
      ],
      "source": [
        "!pip install SaraikiNLP"
      ]
    },
    {
      "cell_type": "markdown",
      "source": [
        "## **Import Normalization Module**"
      ],
      "metadata": {
        "id": "IzEyMQpJQ_yW"
      }
    },
    {
      "cell_type": "code",
      "source": [
        "from SaraikiNLP import normalization"
      ],
      "metadata": {
        "id": "-GynbxNnP1Ee"
      },
      "execution_count": 2,
      "outputs": []
    },
    {
      "cell_type": "markdown",
      "source": [
        "### **Character Normalization**\n",
        "Normalizes all variants of Arabic, persian script alphabets to Urdu/Saraiki alphabets"
      ],
      "metadata": {
        "id": "HSR1ow51SfUP"
      }
    },
    {
      "cell_type": "code",
      "source": [
        "example_text =\"\"\"\n",
        "ڈیزل دی فی لیٹر قیمت 251 روپے 29 پیسے تھی ڳئی۔\n",
        "\"\"\""
      ],
      "metadata": {
        "id": "RiGokogSQ1sJ"
      },
      "execution_count": 3,
      "outputs": []
    },
    {
      "cell_type": "code",
      "source": [
        "print(normalization.normalize_characters(example_text))"
      ],
      "metadata": {
        "colab": {
          "base_uri": "https://localhost:8080/"
        },
        "id": "BPm8eSuRRoIf",
        "outputId": "6c44b9f1-6b84-4ab1-e571-7f62fdee116b"
      },
      "execution_count": 4,
      "outputs": [
        {
          "output_type": "stream",
          "name": "stdout",
          "text": [
            "\n",
            "ڈیزل دی فی لیٹر قیمت 251 روپے 29 پیسے تھی ڳئی۔\n",
            "\n"
          ]
        }
      ]
    },
    {
      "cell_type": "markdown",
      "source": [
        "### **Number Normalization**\n",
        "📝 by default **convert_native** is **True**\n",
        "\n",
        "👉 If True, converts Saraiki and Arabic numbers to Western (1,2,3,...)\n",
        "\n",
        "👉 If False, converts Western and Arabic numbers to Saraiki (١,٢,٣,...)\n",
        "\n"
      ],
      "metadata": {
        "id": "1INuf76UR0cC"
      }
    },
    {
      "cell_type": "code",
      "source": [
        "print(normalization.normalize_numbers(example_text)) # with default case"
      ],
      "metadata": {
        "colab": {
          "base_uri": "https://localhost:8080/"
        },
        "id": "t2Cz14PNVMSu",
        "outputId": "cfbd7560-8835-4db0-f2ad-ead822296c64"
      },
      "execution_count": 5,
      "outputs": [
        {
          "output_type": "stream",
          "name": "stdout",
          "text": [
            "\n",
            "ڈیزل دی فی لیٹر قیمت 251 روپے 29 پیسے تھی ڳئی۔\n",
            "\n"
          ]
        }
      ]
    },
    {
      "cell_type": "code",
      "source": [
        "print(normalization.normalize_numbers(example_text, convert_native = False))"
      ],
      "metadata": {
        "colab": {
          "base_uri": "https://localhost:8080/"
        },
        "id": "UkGSfSc9QHIr",
        "outputId": "4a016354-347a-4416-ac29-fef19381dcf9"
      },
      "execution_count": 6,
      "outputs": [
        {
          "output_type": "stream",
          "name": "stdout",
          "text": [
            "\n",
            "ڈیزل دی فی لیٹر قیمت ٢٥١ روپے ٢٩ پیسے تھی ڳئی۔\n",
            "\n"
          ]
        }
      ]
    },
    {
      "cell_type": "markdown",
      "source": [
        "### **Punctuation Normalization**\n",
        "\n",
        "📝 by default **convert_native** is **False**\n",
        "\n",
        "👉 If True, converts native punctuation to Western equivalents.\n",
        "\n",
        "👉 If False, preserves native punctuation except for minor removals."
      ],
      "metadata": {
        "id": "N-mhlnZVUcsO"
      }
    },
    {
      "cell_type": "code",
      "source": [
        "print(normalization.normalize_punctuation('،گھر۔۔۔؟ بار ٹھیک ہِن سارے')) # default case"
      ],
      "metadata": {
        "colab": {
          "base_uri": "https://localhost:8080/"
        },
        "id": "ABSXUB-6VH7U",
        "outputId": "fec9c2da-5dfd-4f78-e826-c9c2a653afdf"
      },
      "execution_count": 7,
      "outputs": [
        {
          "output_type": "stream",
          "name": "stdout",
          "text": [
            "،گھر۔۔۔؟ بار ٹھیک ہِن سارے\n"
          ]
        }
      ]
    },
    {
      "cell_type": "code",
      "source": [
        "print(normalization.normalize_punctuation('،گھر۔۔۔؟ بار ٹھیک ہِن سارے', convert_native= True))"
      ],
      "metadata": {
        "colab": {
          "base_uri": "https://localhost:8080/"
        },
        "id": "i4xSJl3lXbSo",
        "outputId": "963a20a3-99a5-44ac-84e6-2b5b8712d01d"
      },
      "execution_count": 8,
      "outputs": [
        {
          "output_type": "stream",
          "name": "stdout",
          "text": [
            ",گھر...? بار ٹھیک ہِن سارے\n"
          ]
        }
      ]
    },
    {
      "cell_type": "markdown",
      "source": [
        "### **Diacritics Removal**\n",
        "\n",
        "👉 Removes all kind of Saraiki/Urdu diacritics except hamza as its important in (ئ ۓ scenario)\n"
      ],
      "metadata": {
        "id": "BykH9wyQOPqX"
      }
    },
    {
      "cell_type": "code",
      "source": [
        "print(normalization.remove_diacritics('يَٰٓأَيُّهَا ٱلۡمُزَّمِّلُ'))"
      ],
      "metadata": {
        "colab": {
          "base_uri": "https://localhost:8080/"
        },
        "id": "MDgHseLEOdsl",
        "outputId": "bc82aff3-514b-42fc-8284-012423f3bd59"
      },
      "execution_count": 9,
      "outputs": [
        {
          "output_type": "stream",
          "name": "stdout",
          "text": [
            "یأیہا المزمل\n"
          ]
        }
      ]
    },
    {
      "cell_type": "markdown",
      "source": [
        "### **Spacing Correction**\n",
        "Sometimes we may need space after puntuation marks. This function is helpful in that case."
      ],
      "metadata": {
        "id": "CK_3H3Zb3ruT"
      }
    },
    {
      "cell_type": "code",
      "source": [
        "print(normalization.insert_space_after_punctuation(\n",
        "    \"\"\"\n",
        "     2  سرائیکی۔۔،وسیب\n",
        "    \"\"\"\n",
        "))"
      ],
      "metadata": {
        "colab": {
          "base_uri": "https://localhost:8080/"
        },
        "id": "KMnYhNl53rRF",
        "outputId": "ea8d5545-08e8-443e-d80e-e67004f9ad21"
      },
      "execution_count": 10,
      "outputs": [
        {
          "output_type": "stream",
          "name": "stdout",
          "text": [
            "\n",
            "     2  سرائیکی۔ ۔ ، وسیب\n",
            "    \n"
          ]
        }
      ]
    },
    {
      "cell_type": "markdown",
      "source": [
        "### **Normalize Text**\n",
        "Normalizes text by applying **normalize_characters**, then **normalize_numbers** and **normalize_punctuation**\n",
        "\n",
        "📝 by default **remove_diacritic** is **False**\n",
        "\n",
        "👉 If True, removes diacritics at last of function.\n",
        "\n",
        "👉 If False, preserves diacritics."
      ],
      "metadata": {
        "id": "xQyQTiTTwFgi"
      }
    },
    {
      "cell_type": "code",
      "source": [
        "print(normalization.normalize_text(\"\"\"\n",
        "ڈیزل دی فی لیٹر قیمت 251 روپے 29 پیسے تھی ڳئی۔\n",
        "\"\"\"\n",
        "))"
      ],
      "metadata": {
        "colab": {
          "base_uri": "https://localhost:8080/"
        },
        "id": "LNvYZvUywFAw",
        "outputId": "183c0430-d4df-47fc-af07-2d0469b697c0"
      },
      "execution_count": 13,
      "outputs": [
        {
          "output_type": "stream",
          "name": "stdout",
          "text": [
            "\n",
            "ڈیزل دی فی لیٹر قیمت 251 روپے 29 پیسے تھی ڳئی۔\n",
            "\n"
          ]
        }
      ]
    }
  ]
}
