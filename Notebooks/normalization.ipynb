{
  "nbformat": 4,
  "nbformat_minor": 0,
  "metadata": {
    "colab": {
      "provenance": [],
      "collapsed_sections": [
        "3S_OwAwLYJwz",
        "3nD_nyQLbhy9",
        "r6rE5YsZcFCd",
        "A2821spucSP-",
        "ReIPS_Arcd_4",
        "cgnKE7_GcpfN",
        "nbR-bWfzcx-P",
        "maDhaUFqc7Me",
        "jKmJzcB6dFtz",
        "imYVVdipdThD",
        "2KG5MkohdeP6",
        "ZcWJZmokd9iD",
        "is0vYShLeFzS",
        "yC6cfMr4eL7c",
        "M5RA2jPQej_C"
      ]
    },
    "kernelspec": {
      "name": "python3",
      "display_name": "Python 3"
    },
    "language_info": {
      "name": "python"
    }
  },
  "cells": [
    {
      "cell_type": "markdown",
      "source": [
        "## **1. Normalization functions**\n",
        "\n",
        "## Table of Contents\n",
        "1. Installation\n",
        "2. Importing Normalization Module\n",
        "3. Normalization Functions\n",
        "   - Character Normalization\n",
        "   - Number Normalization\n",
        "   - Punctuation Normalization\n",
        "   - Diacritics Removal\n",
        "   - Spacing Correction"
      ],
      "metadata": {
        "id": "PykQI3FcRH6t"
      }
    },
    {
      "cell_type": "markdown",
      "source": [
        "## **Installation**\n",
        "<p align=\"left\">\n",
        "  <a href=\"https://pypi.org/project/SaraikiNLP/\"><img src=\"https://img.shields.io/pypi/v/SaraikiNLP.svg\"/></a>\n",
        "  <a href=\"https://huggingface.co/SaraikiNLP\"><img src=\"https://img.shields.io/badge/Hugging%20Face-SaraikiNLP-yellow?logo=huggingface\"/></a>\n",
        "<a href=\"https://github.com/SaraikiNLP\"><img src=\"https://img.shields.io/badge/Github-SaraikiNLP-blue?logo=github\"/></a>\n",
        "\n",
        "</p>"
      ],
      "metadata": {
        "id": "0Kdvy0-wQ4tH"
      }
    },
    {
      "cell_type": "code",
      "execution_count": 11,
      "metadata": {
        "colab": {
          "base_uri": "https://localhost:8080/"
        },
        "collapsed": true,
        "id": "n3wiUlRPPnum",
        "outputId": "ec334cbf-8f4e-4956-c818-45577135a337"
      },
      "outputs": [
        {
          "output_type": "stream",
          "name": "stdout",
          "text": [
            "Requirement already satisfied: SaraikiNLP in /usr/local/lib/python3.11/dist-packages (0.1.0rc2)\n"
          ]
        }
      ],
      "source": [
        "!pip install SaraikiNLP"
      ]
    },
    {
      "cell_type": "markdown",
      "source": [
        "## **Import Normalization Module**"
      ],
      "metadata": {
        "id": "IzEyMQpJQ_yW"
      }
    },
    {
      "cell_type": "code",
      "source": [
        "from SaraikiNLP import normalization"
      ],
      "metadata": {
        "id": "-GynbxNnP1Ee"
      },
      "execution_count": 12,
      "outputs": []
    },
    {
      "cell_type": "markdown",
      "source": [
        "### **Character Normalization**\n",
        "Normalizes all variants of Arabic, persian script alphabets to Urdu/Saraiki alphabets"
      ],
      "metadata": {
        "id": "HSR1ow51SfUP"
      }
    },
    {
      "cell_type": "code",
      "source": [
        "example_text =\"\"\"\n",
        "ڈیزل دی فی لیٹر قیمت 251 روپے 29 پیسے تھی ڳئی۔\n",
        "\"\"\""
      ],
      "metadata": {
        "id": "RiGokogSQ1sJ"
      },
      "execution_count": 13,
      "outputs": []
    },
    {
      "cell_type": "code",
      "source": [
        "print(normalization.normalize_characters(example_text))"
      ],
      "metadata": {
        "colab": {
          "base_uri": "https://localhost:8080/"
        },
        "id": "BPm8eSuRRoIf",
        "outputId": "fc455638-8107-4925-b4e0-972af79e6857"
      },
      "execution_count": 14,
      "outputs": [
        {
          "output_type": "stream",
          "name": "stdout",
          "text": [
            "\n",
            "ڈیزل دی فی لیٹر قیمت 251 روپے 29 پیسے تھی ڳئی۔\n",
            "\n"
          ]
        }
      ]
    },
    {
      "cell_type": "markdown",
      "source": [
        "### **Number Normalization**\n",
        "📝 by default **convert_native** is **True**\n",
        "\n",
        "👉 If True, converts Saraiki and Arabic numbers to Western (1,2,3,...)\n",
        "\n",
        "👉 If False, converts Western and Arabic numbers to Saraiki (١,٢,٣,...)\n",
        "\n"
      ],
      "metadata": {
        "id": "1INuf76UR0cC"
      }
    },
    {
      "cell_type": "code",
      "source": [
        "print(normalization.normalize_numbers(example_text)) # with default case"
      ],
      "metadata": {
        "colab": {
          "base_uri": "https://localhost:8080/"
        },
        "id": "t2Cz14PNVMSu",
        "outputId": "9682ed74-d888-49a3-9273-7b637fae207e"
      },
      "execution_count": 15,
      "outputs": [
        {
          "output_type": "stream",
          "name": "stdout",
          "text": [
            "\n",
            "ڈیزل دی فی لیٹر قیمت 251 روپے 29 پیسے تھی ڳئی۔\n",
            "\n"
          ]
        }
      ]
    },
    {
      "cell_type": "code",
      "source": [
        "print(normalization.normalize_numbers(example_text, convert_native = False))"
      ],
      "metadata": {
        "colab": {
          "base_uri": "https://localhost:8080/"
        },
        "id": "UkGSfSc9QHIr",
        "outputId": "43242010-6f11-43ea-bdf5-d49ce4aa2d04"
      },
      "execution_count": 16,
      "outputs": [
        {
          "output_type": "stream",
          "name": "stdout",
          "text": [
            "\n",
            "ڈیزل دی فی لیٹر قیمت ٢٥١ روپے ٢٩ پیسے تھی ڳئی۔\n",
            "\n"
          ]
        }
      ]
    },
    {
      "cell_type": "markdown",
      "source": [
        "### **Punctuation Normalization**\n",
        "\n",
        "📝 by default **convert_native** is **False**\n",
        "\n",
        "👉 If True, converts native punctuation to Western equivalents.\n",
        "\n",
        "👉 If False, preserves native punctuation except for minor removals."
      ],
      "metadata": {
        "id": "N-mhlnZVUcsO"
      }
    },
    {
      "cell_type": "code",
      "source": [
        "print(normalization.normalize_punctuation('،گھر۔۔۔؟ بار ٹھیک ہِن سارے')) # default case"
      ],
      "metadata": {
        "colab": {
          "base_uri": "https://localhost:8080/"
        },
        "id": "ABSXUB-6VH7U",
        "outputId": "c4ccbb8c-7862-4e2b-8b01-a23efc8e4e4d"
      },
      "execution_count": 17,
      "outputs": [
        {
          "output_type": "stream",
          "name": "stdout",
          "text": [
            "،گھر۔۔۔؟ بار ٹھیک ہِن سارے\n"
          ]
        }
      ]
    },
    {
      "cell_type": "code",
      "source": [
        "print(normalization.normalize_punctuation('،گھر۔۔۔؟ بار ٹھیک ہِن سارے', convert_native= True))"
      ],
      "metadata": {
        "colab": {
          "base_uri": "https://localhost:8080/"
        },
        "id": "i4xSJl3lXbSo",
        "outputId": "17d8a7e4-b6f4-4e49-8a69-d2d3dfd2c4da"
      },
      "execution_count": 18,
      "outputs": [
        {
          "output_type": "stream",
          "name": "stdout",
          "text": [
            ",گھر...? بار ٹھیک ہِن سارے\n"
          ]
        }
      ]
    },
    {
      "cell_type": "markdown",
      "source": [
        "### **Diacritics Removal**\n",
        "\n",
        "👉 Removes all kind of Saraiki/Urdu diacritics except hamza as its important in (ئ ۓ scenario)\n"
      ],
      "metadata": {
        "id": "BykH9wyQOPqX"
      }
    },
    {
      "cell_type": "code",
      "source": [
        "print(normalization.remove_diacritics('يَٰٓأَيُّهَا ٱلۡمُزَّمِّلُ'))"
      ],
      "metadata": {
        "colab": {
          "base_uri": "https://localhost:8080/"
        },
        "id": "MDgHseLEOdsl",
        "outputId": "107e2d5c-a21e-4abe-bfaa-852b96483174"
      },
      "execution_count": 19,
      "outputs": [
        {
          "output_type": "stream",
          "name": "stdout",
          "text": [
            "یأیہا المزمل\n"
          ]
        }
      ]
    },
    {
      "cell_type": "markdown",
      "source": [
        "### **Spacing Correction**\n",
        "Sometimes we may need space after puntuation marks. This function is helpful in that case."
      ],
      "metadata": {
        "id": "CK_3H3Zb3ruT"
      }
    },
    {
      "cell_type": "code",
      "source": [
        "print(normalization.insert_space_after_punctuation(\n",
        "    \"\"\"\n",
        "     2  سرائیکی۔۔،وسیب\n",
        "    \"\"\"\n",
        "))"
      ],
      "metadata": {
        "colab": {
          "base_uri": "https://localhost:8080/"
        },
        "id": "KMnYhNl53rRF",
        "outputId": "298d8b2e-d2dc-42d5-f1cd-59e760528f51"
      },
      "execution_count": 20,
      "outputs": [
        {
          "output_type": "stream",
          "name": "stdout",
          "text": [
            "\n",
            "     2  سرائیکی۔ ۔ ، وسیب\n",
            "    \n"
          ]
        }
      ]
    }
  ]
}
